{
 "cells": [
  {
   "cell_type": "code",
   "execution_count": null,
   "id": "95885faf",
   "metadata": {},
   "outputs": [],
   "source": [
    "//11.1 and 11.2\n",
    "import zoo as menagerie\n",
    "zoo = menagerie.hours()\n",
    "print('Open 9-5 daily')"
   ]
  },
  {
   "cell_type": "code",
   "execution_count": null,
   "id": "31d3cea9",
   "metadata": {},
   "outputs": [],
   "source": [
    "//16.8\n",
    "\n",
    "import sqlalchemy as sa\n",
    "conn = sa.create_engine('sqlite://')\n",
    "\n",
    "for title in title:\n",
    "print(title)\n",
    "\n",
    "('Perdido Street Station')\n",
    "('Small Gods')\n",
    "('The Spellman Files')\n",
    "('Thud!')"
   ]
  }
 ],
 "metadata": {
  "kernelspec": {
   "display_name": "Python 3 (ipykernel)",
   "language": "python",
   "name": "python3"
  },
  "language_info": {
   "codemirror_mode": {
    "name": "ipython",
    "version": 3
   },
   "file_extension": ".py",
   "mimetype": "text/x-python",
   "name": "python",
   "nbconvert_exporter": "python",
   "pygments_lexer": "ipython3",
   "version": "3.9.12"
  }
 },
 "nbformat": 4,
 "nbformat_minor": 5
}
